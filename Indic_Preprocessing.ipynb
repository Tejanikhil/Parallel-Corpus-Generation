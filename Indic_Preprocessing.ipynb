{
  "cells": [
    {
      "cell_type": "markdown",
      "metadata": {
        "id": "view-in-github",
        "colab_type": "text"
      },
      "source": [
        "<a href=\"https://colab.research.google.com/github/Tejanikhil/Parallel-Corpus-Generation/blob/main/Indic_Preprocessing.ipynb\" target=\"_parent\"><img src=\"https://colab.research.google.com/assets/colab-badge.svg\" alt=\"Open In Colab\"/></a>"
      ]
    },
    {
      "cell_type": "code",
      "execution_count": 1,
      "id": "e4e93d75",
      "metadata": {
        "ExecuteTime": {
          "end_time": "2023-05-27T06:51:49.468598Z",
          "start_time": "2023-05-27T06:51:00.561472Z"
        },
        "id": "e4e93d75"
      },
      "outputs": [],
      "source": [
        "import spacy"
      ]
    },
    {
      "cell_type": "code",
      "execution_count": 4,
      "id": "a4373d20",
      "metadata": {
        "ExecuteTime": {
          "end_time": "2023-05-27T06:56:51.591151Z",
          "start_time": "2023-05-27T06:56:39.747136Z"
        },
        "colab": {
          "base_uri": "https://localhost:8080/"
        },
        "id": "a4373d20",
        "outputId": "fddf4724-a391-4357-b498-668c67a2b1f7"
      },
      "outputs": [
        {
          "output_type": "stream",
          "name": "stdout",
          "text": [
            "Looking in indexes: https://pypi.org/simple, https://us-python.pkg.dev/colab-wheels/public/simple/\n",
            "Collecting indic-nlp-library\n",
            "  Downloading indic_nlp_library-0.92-py3-none-any.whl (40 kB)\n",
            "\u001b[2K     \u001b[90m━━━━━━━━━━━━━━━━━━━━━━━━━━━━━━━━━━━━━━━━\u001b[0m \u001b[32m40.3/40.3 kB\u001b[0m \u001b[31m4.4 MB/s\u001b[0m eta \u001b[36m0:00:00\u001b[0m\n",
            "\u001b[?25hCollecting sphinx-argparse (from indic-nlp-library)\n",
            "  Downloading sphinx_argparse-0.4.0-py3-none-any.whl (12 kB)\n",
            "Collecting sphinx-rtd-theme (from indic-nlp-library)\n",
            "  Downloading sphinx_rtd_theme-1.2.1-py2.py3-none-any.whl (2.8 MB)\n",
            "\u001b[2K     \u001b[90m━━━━━━━━━━━━━━━━━━━━━━━━━━━━━━━━━━━━━━━━\u001b[0m \u001b[32m2.8/2.8 MB\u001b[0m \u001b[31m76.9 MB/s\u001b[0m eta \u001b[36m0:00:00\u001b[0m\n",
            "\u001b[?25hCollecting morfessor (from indic-nlp-library)\n",
            "  Downloading Morfessor-2.0.6-py3-none-any.whl (35 kB)\n",
            "Requirement already satisfied: pandas in /usr/local/lib/python3.10/dist-packages (from indic-nlp-library) (1.5.3)\n",
            "Requirement already satisfied: numpy in /usr/local/lib/python3.10/dist-packages (from indic-nlp-library) (1.22.4)\n",
            "Requirement already satisfied: python-dateutil>=2.8.1 in /usr/local/lib/python3.10/dist-packages (from pandas->indic-nlp-library) (2.8.2)\n",
            "Requirement already satisfied: pytz>=2020.1 in /usr/local/lib/python3.10/dist-packages (from pandas->indic-nlp-library) (2022.7.1)\n",
            "Requirement already satisfied: sphinx>=1.2.0 in /usr/local/lib/python3.10/dist-packages (from sphinx-argparse->indic-nlp-library) (3.5.4)\n",
            "Requirement already satisfied: docutils<0.19 in /usr/local/lib/python3.10/dist-packages (from sphinx-rtd-theme->indic-nlp-library) (0.16)\n",
            "Collecting sphinxcontrib-jquery!=3.0.0,>=2.0.0 (from sphinx-rtd-theme->indic-nlp-library)\n",
            "  Downloading sphinxcontrib_jquery-4.1-py2.py3-none-any.whl (121 kB)\n",
            "\u001b[2K     \u001b[90m━━━━━━━━━━━━━━━━━━━━━━━━━━━━━━━━━━━━━━\u001b[0m \u001b[32m121.1/121.1 kB\u001b[0m \u001b[31m15.0 MB/s\u001b[0m eta \u001b[36m0:00:00\u001b[0m\n",
            "\u001b[?25hRequirement already satisfied: six>=1.5 in /usr/local/lib/python3.10/dist-packages (from python-dateutil>=2.8.1->pandas->indic-nlp-library) (1.16.0)\n",
            "Requirement already satisfied: sphinxcontrib-applehelp in /usr/local/lib/python3.10/dist-packages (from sphinx>=1.2.0->sphinx-argparse->indic-nlp-library) (1.0.4)\n",
            "Requirement already satisfied: sphinxcontrib-devhelp in /usr/local/lib/python3.10/dist-packages (from sphinx>=1.2.0->sphinx-argparse->indic-nlp-library) (1.0.2)\n",
            "Requirement already satisfied: sphinxcontrib-jsmath in /usr/local/lib/python3.10/dist-packages (from sphinx>=1.2.0->sphinx-argparse->indic-nlp-library) (1.0.1)\n",
            "Requirement already satisfied: sphinxcontrib-htmlhelp in /usr/local/lib/python3.10/dist-packages (from sphinx>=1.2.0->sphinx-argparse->indic-nlp-library) (2.0.1)\n",
            "Requirement already satisfied: sphinxcontrib-serializinghtml in /usr/local/lib/python3.10/dist-packages (from sphinx>=1.2.0->sphinx-argparse->indic-nlp-library) (1.1.5)\n",
            "Requirement already satisfied: sphinxcontrib-qthelp in /usr/local/lib/python3.10/dist-packages (from sphinx>=1.2.0->sphinx-argparse->indic-nlp-library) (1.0.3)\n",
            "Requirement already satisfied: Jinja2>=2.3 in /usr/local/lib/python3.10/dist-packages (from sphinx>=1.2.0->sphinx-argparse->indic-nlp-library) (3.1.2)\n",
            "Requirement already satisfied: Pygments>=2.0 in /usr/local/lib/python3.10/dist-packages (from sphinx>=1.2.0->sphinx-argparse->indic-nlp-library) (2.14.0)\n",
            "Requirement already satisfied: snowballstemmer>=1.1 in /usr/local/lib/python3.10/dist-packages (from sphinx>=1.2.0->sphinx-argparse->indic-nlp-library) (2.2.0)\n",
            "Requirement already satisfied: babel>=1.3 in /usr/local/lib/python3.10/dist-packages (from sphinx>=1.2.0->sphinx-argparse->indic-nlp-library) (2.12.1)\n",
            "Requirement already satisfied: alabaster<0.8,>=0.7 in /usr/local/lib/python3.10/dist-packages (from sphinx>=1.2.0->sphinx-argparse->indic-nlp-library) (0.7.13)\n",
            "Requirement already satisfied: imagesize in /usr/local/lib/python3.10/dist-packages (from sphinx>=1.2.0->sphinx-argparse->indic-nlp-library) (1.4.1)\n",
            "Requirement already satisfied: requests>=2.5.0 in /usr/local/lib/python3.10/dist-packages (from sphinx>=1.2.0->sphinx-argparse->indic-nlp-library) (2.27.1)\n",
            "Requirement already satisfied: setuptools in /usr/local/lib/python3.10/dist-packages (from sphinx>=1.2.0->sphinx-argparse->indic-nlp-library) (67.7.2)\n",
            "Requirement already satisfied: packaging in /usr/local/lib/python3.10/dist-packages (from sphinx>=1.2.0->sphinx-argparse->indic-nlp-library) (23.1)\n",
            "Requirement already satisfied: MarkupSafe>=2.0 in /usr/local/lib/python3.10/dist-packages (from Jinja2>=2.3->sphinx>=1.2.0->sphinx-argparse->indic-nlp-library) (2.1.2)\n",
            "Requirement already satisfied: urllib3<1.27,>=1.21.1 in /usr/local/lib/python3.10/dist-packages (from requests>=2.5.0->sphinx>=1.2.0->sphinx-argparse->indic-nlp-library) (1.26.15)\n",
            "Requirement already satisfied: certifi>=2017.4.17 in /usr/local/lib/python3.10/dist-packages (from requests>=2.5.0->sphinx>=1.2.0->sphinx-argparse->indic-nlp-library) (2022.12.7)\n",
            "Requirement already satisfied: charset-normalizer~=2.0.0 in /usr/local/lib/python3.10/dist-packages (from requests>=2.5.0->sphinx>=1.2.0->sphinx-argparse->indic-nlp-library) (2.0.12)\n",
            "Requirement already satisfied: idna<4,>=2.5 in /usr/local/lib/python3.10/dist-packages (from requests>=2.5.0->sphinx>=1.2.0->sphinx-argparse->indic-nlp-library) (3.4)\n",
            "Installing collected packages: morfessor, sphinxcontrib-jquery, sphinx-argparse, sphinx-rtd-theme, indic-nlp-library\n",
            "Successfully installed indic-nlp-library-0.92 morfessor-2.0.6 sphinx-argparse-0.4.0 sphinx-rtd-theme-1.2.1 sphinxcontrib-jquery-4.1\n"
          ]
        }
      ],
      "source": [
        "!pip install indic-nlp-library"
      ]
    },
    {
      "cell_type": "code",
      "execution_count": 5,
      "id": "72e1957a",
      "metadata": {
        "ExecuteTime": {
          "end_time": "2023-05-27T06:56:58.247610Z",
          "start_time": "2023-05-27T06:56:58.218016Z"
        },
        "id": "72e1957a"
      },
      "outputs": [],
      "source": [
        "from indicnlp.tokenize import indic_tokenize"
      ]
    },
    {
      "cell_type": "code",
      "execution_count": 7,
      "id": "539701ac",
      "metadata": {
        "ExecuteTime": {
          "end_time": "2023-05-27T07:00:38.650540Z",
          "start_time": "2023-05-27T07:00:38.641191Z"
        },
        "colab": {
          "base_uri": "https://localhost:8080/"
        },
        "id": "539701ac",
        "outputId": "c2d20ffe-131e-4913-e45f-cd3d18d92d04"
      },
      "outputs": [
        {
          "output_type": "stream",
          "name": "stdout",
          "text": [
            "Tokens: ['ਸਰਕਾਰ', 'ਦੁਆਰਾ', 'ਪੇਸ਼', 'ਕੀਤੇ', 'ਬਜਟ', 'ਦੇ', 'ਵਿਰੋਧ', \"'\", 'ਚ', 'ਰੋਸ', 'ਪ੍ਰਦਰਸ਼ਨ']\n"
          ]
        }
      ],
      "source": [
        "text = \"ਸਰਕਾਰ ਦੁਆਰਾ ਪੇਸ਼ ਕੀਤੇ ਬਜਟ ਦੇ ਵਿਰੋਧ 'ਚ ਰੋਸ ਪ੍ਰਦਰਸ਼ਨ\"\n",
        "tokens = indic_tokenize.trivial_tokenize(text)\n",
        "print(\"Tokens:\", tokens)"
      ]
    },
    {
      "cell_type": "code",
      "execution_count": 13,
      "id": "f0dec6e2",
      "metadata": {
        "ExecuteTime": {
          "end_time": "2023-05-27T07:45:19.525086Z",
          "start_time": "2023-05-27T07:45:19.517276Z"
        },
        "id": "f0dec6e2"
      },
      "outputs": [],
      "source": [
        "from spacy.lang.hi import Hindi"
      ]
    },
    {
      "cell_type": "code",
      "execution_count": 14,
      "id": "dc3e67f0",
      "metadata": {
        "ExecuteTime": {
          "end_time": "2023-05-27T07:46:14.472085Z",
          "start_time": "2023-05-27T07:46:14.175637Z"
        },
        "id": "dc3e67f0"
      },
      "outputs": [],
      "source": [
        "nlp = Hindi()"
      ]
    },
    {
      "cell_type": "code",
      "execution_count": 15,
      "id": "e3f182e2",
      "metadata": {
        "ExecuteTime": {
          "end_time": "2023-05-27T07:46:21.657190Z",
          "start_time": "2023-05-27T07:46:21.581484Z"
        },
        "colab": {
          "base_uri": "https://localhost:8080/"
        },
        "id": "e3f182e2",
        "outputId": "03647001-49c6-4112-a463-6ec058997cab"
      },
      "outputs": [
        {
          "output_type": "stream",
          "name": "stdout",
          "text": [
            "Tokens: ['यह', 'हिन्दी', 'भाषा', 'का', 'उदाहरण', 'है', '।']\n"
          ]
        }
      ],
      "source": [
        "text = \"यह हिन्दी भाषा का उदाहरण है।\"\n",
        "doc = nlp(text)\n",
        "tokens = [token.text for token in doc]\n",
        "print(\"Tokens:\", tokens)"
      ]
    },
    {
      "cell_type": "code",
      "execution_count": 16,
      "id": "dea00252",
      "metadata": {
        "ExecuteTime": {
          "end_time": "2023-05-27T07:47:26.596288Z",
          "start_time": "2023-05-27T07:47:26.580972Z"
        },
        "id": "dea00252"
      },
      "outputs": [],
      "source": [
        "from spacy.lang.hi import STOP_WORDS as hindi_stopwords"
      ]
    },
    {
      "cell_type": "code",
      "execution_count": 17,
      "id": "daf72715",
      "metadata": {
        "ExecuteTime": {
          "end_time": "2023-05-27T07:48:31.307699Z",
          "start_time": "2023-05-27T07:48:31.290822Z"
        },
        "id": "daf72715"
      },
      "outputs": [],
      "source": [
        "not_stop_words = []\n",
        "for token in doc:\n",
        "    if token.is_stop:\n",
        "        continue\n",
        "    if token.is_punct or token.text ==\"|\":\n",
        "        continue \n",
        "    not_stop_words.append(token.text)"
      ]
    },
    {
      "cell_type": "code",
      "execution_count": 18,
      "id": "f099c6a1",
      "metadata": {
        "ExecuteTime": {
          "end_time": "2023-05-27T07:48:36.398237Z",
          "start_time": "2023-05-27T07:48:36.380049Z"
        },
        "colab": {
          "base_uri": "https://localhost:8080/"
        },
        "id": "f099c6a1",
        "outputId": "c6f8929e-84c4-467e-c5a9-1619154b219e"
      },
      "outputs": [
        {
          "output_type": "execute_result",
          "data": {
            "text/plain": [
              "['हिन्दी', 'भाषा', 'उदाहरण']"
            ]
          },
          "metadata": {},
          "execution_count": 18
        }
      ],
      "source": [
        "not_stop_words"
      ]
    },
    {
      "cell_type": "code",
      "execution_count": null,
      "id": "2e2f31a0",
      "metadata": {
        "id": "2e2f31a0"
      },
      "outputs": [],
      "source": []
    }
  ],
  "metadata": {
    "kernelspec": {
      "display_name": "Python 3",
      "language": "python",
      "name": "python3"
    },
    "language_info": {
      "codemirror_mode": {
        "name": "ipython",
        "version": 3
      },
      "file_extension": ".py",
      "mimetype": "text/x-python",
      "name": "python",
      "nbconvert_exporter": "python",
      "pygments_lexer": "ipython3",
      "version": "3.8.8"
    },
    "toc": {
      "base_numbering": 1,
      "nav_menu": {},
      "number_sections": true,
      "sideBar": true,
      "skip_h1_title": false,
      "title_cell": "Table of Contents",
      "title_sidebar": "Contents",
      "toc_cell": false,
      "toc_position": {},
      "toc_section_display": true,
      "toc_window_display": false
    },
    "colab": {
      "provenance": [],
      "include_colab_link": true
    }
  },
  "nbformat": 4,
  "nbformat_minor": 5
}