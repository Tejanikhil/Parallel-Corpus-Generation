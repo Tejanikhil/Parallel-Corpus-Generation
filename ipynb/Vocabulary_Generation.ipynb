{
  "nbformat": 4,
  "nbformat_minor": 0,
  "metadata": {
    "colab": {
      "provenance": [],
      "authorship_tag": "ABX9TyPQLGc8QcKTF5xLtXkXB1E6",
      "include_colab_link": true
    },
    "kernelspec": {
      "name": "python3",
      "display_name": "Python 3"
    },
    "language_info": {
      "name": "python"
    }
  },
  "cells": [
    {
      "cell_type": "markdown",
      "metadata": {
        "id": "view-in-github",
        "colab_type": "text"
      },
      "source": [
        "<a href=\"https://colab.research.google.com/github/Tejanikhil/Parallel-Corpus-Generation/blob/main/ipynb/Vocabulary_Generation.ipynb\" target=\"_parent\"><img src=\"https://colab.research.google.com/assets/colab-badge.svg\" alt=\"Open In Colab\"/></a>"
      ]
    },
    {
      "cell_type": "code",
      "source": [
        "import requests"
      ],
      "metadata": {
        "id": "vnlbxoFX19Zh"
      },
      "execution_count": 1,
      "outputs": []
    },
    {
      "cell_type": "code",
      "execution_count": 2,
      "metadata": {
        "id": "-cpZMl0_1xZi"
      },
      "outputs": [],
      "source": [
        "from collections import Counter\n",
        "\n",
        "def get_vocab(train_file, vocab_file):\n",
        "\n",
        "    c = Counter()\n",
        "    response = requests.get(train_file)\n",
        "    file_contents = response.text\n",
        "    for line in file_contents:\n",
        "        for word in line.strip('\\r\\n ').split(' '):\n",
        "            if word:\n",
        "                c[word] += 1\n",
        "    fout = open(vocab_file, 'w', encoding='utf-8')\n",
        "    for key,f in sorted(c.items(), key=lambda x: x[1], reverse=True):\n",
        "        fout.write(key+\" \"+ str(f) + \"\\n\")"
      ]
    },
    {
      "cell_type": "code",
      "source": [
        "get_vocab(\"https://github.com/Tejanikhil/Parallel-Corpus-Generation/tree/main/Dataset/src_train.hi\", \"Vocab.txt\")\n",
        "get_vocab(\"https://github.com/Tejanikhil/Parallel-Corpus-Generation/tree/main/Dataset/src_test.hi\", \"Vocab.txt\")"
      ],
      "metadata": {
        "colab": {
          "base_uri": "https://localhost:8080/",
          "height": 287
        },
        "id": "D4Eb9sMw12m_",
        "outputId": "4f7231b5-5d76-4cef-ee28-cbc7721678db"
      },
      "execution_count": null,
      "outputs": [
        {
          "output_type": "error",
          "ename": "NameError",
          "evalue": "ignored",
          "traceback": [
            "\u001b[0;31m---------------------------------------------------------------------------\u001b[0m",
            "\u001b[0;31mNameError\u001b[0m                                 Traceback (most recent call last)",
            "\u001b[0;32m<ipython-input-2-625182b292fe>\u001b[0m in \u001b[0;36m<cell line: 1>\u001b[0;34m()\u001b[0m\n\u001b[0;32m----> 1\u001b[0;31m \u001b[0mget_vocab\u001b[0m\u001b[0;34m(\u001b[0m\u001b[0;34m\"https://github.com/Tejanikhil/Parallel-Corpus-Generation/tree/main/Dataset/src_train.hi\"\u001b[0m\u001b[0;34m,\u001b[0m \u001b[0;34m\"Vocab.txt\"\u001b[0m\u001b[0;34m)\u001b[0m\u001b[0;34m\u001b[0m\u001b[0;34m\u001b[0m\u001b[0m\n\u001b[0m",
            "\u001b[0;32m<ipython-input-1-11db3c55ca2f>\u001b[0m in \u001b[0;36mget_vocab\u001b[0;34m(train_file, vocab_file)\u001b[0m\n\u001b[1;32m      4\u001b[0m \u001b[0;34m\u001b[0m\u001b[0m\n\u001b[1;32m      5\u001b[0m     \u001b[0mc\u001b[0m \u001b[0;34m=\u001b[0m \u001b[0mCounter\u001b[0m\u001b[0;34m(\u001b[0m\u001b[0;34m)\u001b[0m\u001b[0;34m\u001b[0m\u001b[0;34m\u001b[0m\u001b[0m\n\u001b[0;32m----> 6\u001b[0;31m     \u001b[0mresponse\u001b[0m \u001b[0;34m=\u001b[0m \u001b[0mrequests\u001b[0m\u001b[0;34m.\u001b[0m\u001b[0mget\u001b[0m\u001b[0;34m(\u001b[0m\u001b[0mtrain_file\u001b[0m\u001b[0;34m)\u001b[0m\u001b[0;34m\u001b[0m\u001b[0;34m\u001b[0m\u001b[0m\n\u001b[0m\u001b[1;32m      7\u001b[0m     \u001b[0mfile_contents\u001b[0m \u001b[0;34m=\u001b[0m \u001b[0mresponse\u001b[0m\u001b[0;34m.\u001b[0m\u001b[0mtext\u001b[0m\u001b[0;34m\u001b[0m\u001b[0;34m\u001b[0m\u001b[0m\n\u001b[1;32m      8\u001b[0m     \u001b[0;32mfor\u001b[0m \u001b[0mline\u001b[0m \u001b[0;32min\u001b[0m \u001b[0mfile_contents\u001b[0m\u001b[0;34m:\u001b[0m\u001b[0;34m\u001b[0m\u001b[0;34m\u001b[0m\u001b[0m\n",
            "\u001b[0;31mNameError\u001b[0m: name 'requests' is not defined"
          ]
        }
      ]
    },
    {
      "cell_type": "code",
      "source": [],
      "metadata": {
        "id": "YmLC-xte17PI"
      },
      "execution_count": null,
      "outputs": []
    }
  ]
}